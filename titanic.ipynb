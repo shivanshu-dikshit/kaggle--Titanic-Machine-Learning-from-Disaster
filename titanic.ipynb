{
 "cells": [
  {
   "cell_type": "code",
   "execution_count": 16,
   "metadata": {},
   "outputs": [],
   "source": [
    "#importing the necessary libraries to be used\n",
    "import numpy as np\n",
    "import pandas as pd\n",
    "from sklearn.ensemble import RandomForestClassifier\n",
    "from sklearn.svm import SVC"
   ]
  },
  {
   "cell_type": "code",
   "execution_count": 17,
   "metadata": {},
   "outputs": [
    {
     "name": "stdout",
     "output_type": "stream",
     "text": [
      "<class 'pandas.core.frame.DataFrame'>\n",
      "RangeIndex: 891 entries, 0 to 890\n",
      "Data columns (total 12 columns):\n",
      "PassengerId    891 non-null int64\n",
      "Survived       891 non-null int64\n",
      "Pclass         891 non-null int64\n",
      "Name           891 non-null object\n",
      "Sex            891 non-null object\n",
      "Age            714 non-null float64\n",
      "SibSp          891 non-null int64\n",
      "Parch          891 non-null int64\n",
      "Ticket         891 non-null object\n",
      "Fare           891 non-null float64\n",
      "Cabin          204 non-null object\n",
      "Embarked       889 non-null object\n",
      "dtypes: float64(2), int64(5), object(5)\n",
      "memory usage: 83.6+ KB\n",
      "None\n",
      "_________------------------__________________\n",
      "<class 'pandas.core.frame.DataFrame'>\n",
      "RangeIndex: 418 entries, 0 to 417\n",
      "Data columns (total 11 columns):\n",
      "PassengerId    418 non-null int64\n",
      "Pclass         418 non-null int64\n",
      "Name           418 non-null object\n",
      "Sex            418 non-null object\n",
      "Age            332 non-null float64\n",
      "SibSp          418 non-null int64\n",
      "Parch          418 non-null int64\n",
      "Ticket         418 non-null object\n",
      "Fare           417 non-null float64\n",
      "Cabin          91 non-null object\n",
      "Embarked       418 non-null object\n",
      "dtypes: float64(2), int64(4), object(5)\n",
      "memory usage: 36.0+ KB\n",
      "None\n"
     ]
    }
   ],
   "source": [
    "#importing the dataset by the help of pnadas library\n",
    "train = pd.read_csv(\"train.csv\")\n",
    "test = pd.read_csv(\"test.csv\")\n",
    "print(train.info())\n",
    "print(\"_________------------------__________________\")\n",
    "print(test.info())"
   ]
  },
  {
   "cell_type": "code",
   "execution_count": 18,
   "metadata": {},
   "outputs": [
    {
     "name": "stdout",
     "output_type": "stream",
     "text": [
      "   PassengerId  Survived  Pclass  \\\n",
      "0            1         0       3   \n",
      "1            2         1       1   \n",
      "2            3         1       3   \n",
      "3            4         1       1   \n",
      "4            5         0       3   \n",
      "5            6         0       3   \n",
      "6            7         0       1   \n",
      "7            8         0       3   \n",
      "8            9         1       3   \n",
      "9           10         1       2   \n",
      "\n",
      "                                                Name     Sex   Age  SibSp  \\\n",
      "0                            Braund, Mr. Owen Harris    male  22.0      1   \n",
      "1  Cumings, Mrs. John Bradley (Florence Briggs Th...  female  38.0      1   \n",
      "2                             Heikkinen, Miss. Laina  female  26.0      0   \n",
      "3       Futrelle, Mrs. Jacques Heath (Lily May Peel)  female  35.0      1   \n",
      "4                           Allen, Mr. William Henry    male  35.0      0   \n",
      "5                                   Moran, Mr. James    male   NaN      0   \n",
      "6                            McCarthy, Mr. Timothy J    male  54.0      0   \n",
      "7                     Palsson, Master. Gosta Leonard    male   2.0      3   \n",
      "8  Johnson, Mrs. Oscar W (Elisabeth Vilhelmina Berg)  female  27.0      0   \n",
      "9                Nasser, Mrs. Nicholas (Adele Achem)  female  14.0      1   \n",
      "\n",
      "   Parch            Ticket     Fare Cabin Embarked  \n",
      "0      0         A/5 21171   7.2500   NaN        S  \n",
      "1      0          PC 17599  71.2833   C85        C  \n",
      "2      0  STON/O2. 3101282   7.9250   NaN        S  \n",
      "3      0            113803  53.1000  C123        S  \n",
      "4      0            373450   8.0500   NaN        S  \n",
      "5      0            330877   8.4583   NaN        Q  \n",
      "6      0             17463  51.8625   E46        S  \n",
      "7      1            349909  21.0750   NaN        S  \n",
      "8      2            347742  11.1333   NaN        S  \n",
      "9      0            237736  30.0708   NaN        C  \n",
      "------------------------------____________________________________-------------------------------\n",
      "   PassengerId  Pclass                                          Name     Sex  \\\n",
      "0          892       3                              Kelly, Mr. James    male   \n",
      "1          893       3              Wilkes, Mrs. James (Ellen Needs)  female   \n",
      "2          894       2                     Myles, Mr. Thomas Francis    male   \n",
      "3          895       3                              Wirz, Mr. Albert    male   \n",
      "4          896       3  Hirvonen, Mrs. Alexander (Helga E Lindqvist)  female   \n",
      "5          897       3                    Svensson, Mr. Johan Cervin    male   \n",
      "6          898       3                          Connolly, Miss. Kate  female   \n",
      "7          899       2                  Caldwell, Mr. Albert Francis    male   \n",
      "8          900       3     Abrahim, Mrs. Joseph (Sophie Halaut Easu)  female   \n",
      "9          901       3                       Davies, Mr. John Samuel    male   \n",
      "\n",
      "    Age  SibSp  Parch     Ticket     Fare Cabin Embarked  \n",
      "0  34.5      0      0     330911   7.8292   NaN        Q  \n",
      "1  47.0      1      0     363272   7.0000   NaN        S  \n",
      "2  62.0      0      0     240276   9.6875   NaN        Q  \n",
      "3  27.0      0      0     315154   8.6625   NaN        S  \n",
      "4  22.0      1      1    3101298  12.2875   NaN        S  \n",
      "5  14.0      0      0       7538   9.2250   NaN        S  \n",
      "6  30.0      0      0     330972   7.6292   NaN        Q  \n",
      "7  26.0      1      1     248738  29.0000   NaN        S  \n",
      "8  18.0      0      0       2657   7.2292   NaN        C  \n",
      "9  21.0      2      0  A/4 48871  24.1500   NaN        S  \n"
     ]
    }
   ],
   "source": [
    "\"\"\"\n",
    "as we can clearly see from the info that there are missing values in the train data in the columns \"age\"\n",
    ", \"cabin\" and \"embarked\"\n",
    "similarly in the test data there are missing values in the columns \"age\", \"fare\" and \"cabin\"\n",
    "\"\"\"\n",
    "print(train.head(10))\n",
    "print(\"------------------------------____________________________________-------------------------------\")\n",
    "print(test.head(10))"
   ]
  },
  {
   "cell_type": "code",
   "execution_count": 19,
   "metadata": {},
   "outputs": [],
   "source": [
    "\"\"\"\n",
    "as we need to process both the train and test set so we would merge them and process them together\n",
    "first of all we will take care of the missing values and the we will convert the data into their \n",
    "required representation\n",
    "\"\"\"\n",
    "combined = [train, test]\n",
    "for data in combined:\n",
    "    \n",
    "    #filling the missing values of tha age column with the median of age\n",
    "    data['Age'] = data['Age'].fillna(data['Age'].median())\n",
    "    data['Age'] = data['Age'].astype(int)\n",
    "    \n",
    "    #filling the missing value of fair in the test data\n",
    "    data['Fare'] = data['Fare'].fillna(data['Fare'].mean())\n",
    "    \n",
    "    #filling the value in embarked with the most occuring one that is \"S\"\n",
    "    data['Embarked'] = data['Embarked'].fillna('S')\n",
    "    data['Embarked'] = data['Embarked'].map({'S':0, 'C':1, 'Q':2}).astype(int)\n",
    "    \n",
    "    #chaning the values in sex column into numeric values\n",
    "    data['Sex'] = data['Sex'].map({'female':0, 'male':1}).astype(int)\n",
    "    \n",
    "    #adding a new feature to the data by combining \"parch\" and \"sibsp\" and adding 1 as the person itself\n",
    "    data['family'] = data['Parch'] + data['SibSp'] + 1\n",
    "    "
   ]
  },
  {
   "cell_type": "code",
   "execution_count": 20,
   "metadata": {},
   "outputs": [
    {
     "name": "stdout",
     "output_type": "stream",
     "text": [
      "   PassengerId  Survived  Pclass  \\\n",
      "0            1         0       3   \n",
      "1            2         1       1   \n",
      "2            3         1       3   \n",
      "3            4         1       1   \n",
      "4            5         0       3   \n",
      "5            6         0       3   \n",
      "6            7         0       1   \n",
      "7            8         0       3   \n",
      "8            9         1       3   \n",
      "9           10         1       2   \n",
      "\n",
      "                                                Name  Sex  Age  SibSp  Parch  \\\n",
      "0                            Braund, Mr. Owen Harris    1   22      1      0   \n",
      "1  Cumings, Mrs. John Bradley (Florence Briggs Th...    0   38      1      0   \n",
      "2                             Heikkinen, Miss. Laina    0   26      0      0   \n",
      "3       Futrelle, Mrs. Jacques Heath (Lily May Peel)    0   35      1      0   \n",
      "4                           Allen, Mr. William Henry    1   35      0      0   \n",
      "5                                   Moran, Mr. James    1   28      0      0   \n",
      "6                            McCarthy, Mr. Timothy J    1   54      0      0   \n",
      "7                     Palsson, Master. Gosta Leonard    1    2      3      1   \n",
      "8  Johnson, Mrs. Oscar W (Elisabeth Vilhelmina Berg)    0   27      0      2   \n",
      "9                Nasser, Mrs. Nicholas (Adele Achem)    0   14      1      0   \n",
      "\n",
      "             Ticket     Fare Cabin  Embarked  family  \n",
      "0         A/5 21171   7.2500   NaN         0       2  \n",
      "1          PC 17599  71.2833   C85         1       2  \n",
      "2  STON/O2. 3101282   7.9250   NaN         0       1  \n",
      "3            113803  53.1000  C123         0       2  \n",
      "4            373450   8.0500   NaN         0       1  \n",
      "5            330877   8.4583   NaN         2       1  \n",
      "6             17463  51.8625   E46         0       1  \n",
      "7            349909  21.0750   NaN         0       5  \n",
      "8            347742  11.1333   NaN         0       3  \n",
      "9            237736  30.0708   NaN         1       2  \n",
      "-------------------____________________--------------------\n",
      "   PassengerId  Pclass                                          Name  Sex  \\\n",
      "0          892       3                              Kelly, Mr. James    1   \n",
      "1          893       3              Wilkes, Mrs. James (Ellen Needs)    0   \n",
      "2          894       2                     Myles, Mr. Thomas Francis    1   \n",
      "3          895       3                              Wirz, Mr. Albert    1   \n",
      "4          896       3  Hirvonen, Mrs. Alexander (Helga E Lindqvist)    0   \n",
      "5          897       3                    Svensson, Mr. Johan Cervin    1   \n",
      "6          898       3                          Connolly, Miss. Kate    0   \n",
      "7          899       2                  Caldwell, Mr. Albert Francis    1   \n",
      "8          900       3     Abrahim, Mrs. Joseph (Sophie Halaut Easu)    0   \n",
      "9          901       3                       Davies, Mr. John Samuel    1   \n",
      "\n",
      "   Age  SibSp  Parch     Ticket     Fare Cabin  Embarked  family  \n",
      "0   34      0      0     330911   7.8292   NaN         2       1  \n",
      "1   47      1      0     363272   7.0000   NaN         0       2  \n",
      "2   62      0      0     240276   9.6875   NaN         2       1  \n",
      "3   27      0      0     315154   8.6625   NaN         0       1  \n",
      "4   22      1      1    3101298  12.2875   NaN         0       3  \n",
      "5   14      0      0       7538   9.2250   NaN         0       1  \n",
      "6   30      0      0     330972   7.6292   NaN         2       1  \n",
      "7   26      1      1     248738  29.0000   NaN         0       3  \n",
      "8   18      0      0       2657   7.2292   NaN         1       1  \n",
      "9   21      2      0  A/4 48871  24.1500   NaN         0       3  \n"
     ]
    }
   ],
   "source": [
    "#rechecking the data\n",
    "print(train.head(10))\n",
    "print(\"-------------------____________________--------------------\")\n",
    "print(test.head(10))"
   ]
  },
  {
   "cell_type": "code",
   "execution_count": 21,
   "metadata": {},
   "outputs": [
    {
     "name": "stdout",
     "output_type": "stream",
     "text": [
      "<class 'pandas.core.frame.DataFrame'>\n",
      "RangeIndex: 891 entries, 0 to 890\n",
      "Data columns (total 13 columns):\n",
      "PassengerId    891 non-null int64\n",
      "Survived       891 non-null int64\n",
      "Pclass         891 non-null int64\n",
      "Name           891 non-null object\n",
      "Sex            891 non-null int32\n",
      "Age            891 non-null int32\n",
      "SibSp          891 non-null int64\n",
      "Parch          891 non-null int64\n",
      "Ticket         891 non-null object\n",
      "Fare           891 non-null float64\n",
      "Cabin          204 non-null object\n",
      "Embarked       891 non-null int32\n",
      "family         891 non-null int64\n",
      "dtypes: float64(1), int32(3), int64(6), object(3)\n",
      "memory usage: 80.1+ KB\n",
      "None\n",
      "-------------------------_______________________---------------------------\n",
      "<class 'pandas.core.frame.DataFrame'>\n",
      "RangeIndex: 418 entries, 0 to 417\n",
      "Data columns (total 12 columns):\n",
      "PassengerId    418 non-null int64\n",
      "Pclass         418 non-null int64\n",
      "Name           418 non-null object\n",
      "Sex            418 non-null int32\n",
      "Age            418 non-null int32\n",
      "SibSp          418 non-null int64\n",
      "Parch          418 non-null int64\n",
      "Ticket         418 non-null object\n",
      "Fare           418 non-null float64\n",
      "Cabin          91 non-null object\n",
      "Embarked       418 non-null int32\n",
      "family         418 non-null int64\n",
      "dtypes: float64(1), int32(3), int64(5), object(3)\n",
      "memory usage: 34.4+ KB\n",
      "None\n"
     ]
    }
   ],
   "source": [
    "print(train.info())\n",
    "print(\"-------------------------_______________________---------------------------\")\n",
    "print(test.info())"
   ]
  },
  {
   "cell_type": "code",
   "execution_count": 32,
   "metadata": {},
   "outputs": [],
   "source": [
    "\"\"\"\n",
    "creating the target variable and the train features from the train data\n",
    "creating the test features from the test data\n",
    "\"\"\"\n",
    "target = train['Survived']\n",
    "train_features = train[['Pclass', 'Sex', 'Age', 'SibSp', 'Parch', 'Fare', 'Embarked', 'family']]\n",
    "test_features = test[['Pclass', 'Sex', 'Age', 'SibSp', 'Parch', 'Fare', 'Embarked', 'family']]"
   ]
  },
  {
   "cell_type": "code",
   "execution_count": 36,
   "metadata": {},
   "outputs": [
    {
     "name": "stdout",
     "output_type": "stream",
     "text": [
      "   Pclass  Sex  Age  SibSp  Parch     Fare  Embarked  family\n",
      "0       3    1   22      1      0   7.2500         0       2\n",
      "1       1    0   38      1      0  71.2833         1       2\n",
      "2       3    0   26      0      0   7.9250         0       1\n",
      "3       1    0   35      1      0  53.1000         0       2\n",
      "4       3    1   35      0      0   8.0500         0       1\n",
      "5       3    1   28      0      0   8.4583         2       1\n",
      "6       1    1   54      0      0  51.8625         0       1\n",
      "7       3    1    2      3      1  21.0750         0       5\n",
      "8       3    0   27      0      2  11.1333         0       3\n",
      "9       2    0   14      1      0  30.0708         1       2\n",
      "________________________------------------------_____________________________________\n",
      "   Pclass  Sex  Age  SibSp  Parch     Fare  Embarked  family\n",
      "0       3    1   22      1      0   7.2500         0       2\n",
      "1       1    0   38      1      0  71.2833         1       2\n",
      "2       3    0   26      0      0   7.9250         0       1\n",
      "3       1    0   35      1      0  53.1000         0       2\n",
      "4       3    1   35      0      0   8.0500         0       1\n",
      "5       3    1   28      0      0   8.4583         2       1\n",
      "6       1    1   54      0      0  51.8625         0       1\n",
      "7       3    1    2      3      1  21.0750         0       5\n",
      "8       3    0   27      0      2  11.1333         0       3\n",
      "9       2    0   14      1      0  30.0708         1       2\n",
      "________________________------------------------_____________________________________\n",
      "<class 'pandas.core.frame.DataFrame'>\n",
      "RangeIndex: 891 entries, 0 to 890\n",
      "Data columns (total 8 columns):\n",
      "Pclass      891 non-null int64\n",
      "Sex         891 non-null int32\n",
      "Age         891 non-null int32\n",
      "SibSp       891 non-null int64\n",
      "Parch       891 non-null int64\n",
      "Fare        891 non-null float64\n",
      "Embarked    891 non-null int32\n",
      "family      891 non-null int64\n",
      "dtypes: float64(1), int32(3), int64(4)\n",
      "memory usage: 45.3 KB\n",
      "None\n"
     ]
    }
   ],
   "source": [
    "#visualising the created variables\n",
    "print(train_features.head(10))\n",
    "print(\"________________________------------------------_____________________________________\")\n",
    "print(train_features.head(10))\n",
    "print(\"________________________------------------------_____________________________________\")\n",
    "print(train_features.info())"
   ]
  },
  {
   "cell_type": "code",
   "execution_count": 56,
   "metadata": {},
   "outputs": [],
   "source": [
    "#fitting the model to our data\n",
    "classifier =RandomForestClassifier(max_depth=10, min_samples_split=2, n_estimators=100, random_state=1)\n",
    "model = classifier.fit(train_features, target)"
   ]
  },
  {
   "cell_type": "code",
   "execution_count": 57,
   "metadata": {},
   "outputs": [],
   "source": [
    "#making the prediction through help of our created model and testing it on test data\n",
    "prediction = model.predict(test_features)"
   ]
  },
  {
   "cell_type": "code",
   "execution_count": 58,
   "metadata": {},
   "outputs": [],
   "source": [
    "submission = pd.DataFrame({'PassengerId':data['PassengerId'], \"Survived\":prediction})\n",
    "submission.to_csv('submission.csv', index = False)"
   ]
  },
  {
   "cell_type": "code",
   "execution_count": 59,
   "metadata": {},
   "outputs": [
    {
     "name": "stdout",
     "output_type": "stream",
     "text": [
      "   PassengerId  Survived\n",
      "0          892         0\n",
      "1          893         0\n",
      "2          894         0\n",
      "3          895         0\n",
      "4          896         0\n",
      "5          897         0\n",
      "6          898         0\n",
      "7          899         0\n",
      "8          900         1\n",
      "9          901         0\n"
     ]
    }
   ],
   "source": [
    "submission = pd.read_csv('submission.csv')\n",
    "print(submission.head(10))"
   ]
  },
  {
   "cell_type": "code",
   "execution_count": null,
   "metadata": {},
   "outputs": [],
   "source": []
  }
 ],
 "metadata": {
  "kernelspec": {
   "display_name": "Python 3",
   "language": "python",
   "name": "python3"
  },
  "language_info": {
   "codemirror_mode": {
    "name": "ipython",
    "version": 3
   },
   "file_extension": ".py",
   "mimetype": "text/x-python",
   "name": "python",
   "nbconvert_exporter": "python",
   "pygments_lexer": "ipython3",
   "version": "3.6.5"
  }
 },
 "nbformat": 4,
 "nbformat_minor": 2
}
